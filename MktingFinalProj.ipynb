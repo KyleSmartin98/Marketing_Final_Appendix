{
  "nbformat": 4,
  "nbformat_minor": 0,
  "metadata": {
    "colab": {
      "name": "MktingFinalProj.ipynb",
      "provenance": [],
      "collapsed_sections": [],
      "mount_file_id": "1CAyEMFnIZnR5M2-xmWh64m9XiGraylrJ",
      "authorship_tag": "ABX9TyNVqQz/bDK9UrhZTj5DMhm6",
      "include_colab_link": true
    },
    "kernelspec": {
      "name": "python3",
      "display_name": "Python 3"
    }
  },
  "cells": [
    {
      "cell_type": "markdown",
      "metadata": {
        "id": "view-in-github",
        "colab_type": "text"
      },
      "source": [
        "<a href=\"https://colab.research.google.com/github/KyleSmartin98/Marketing_Final_Appendix/blob/main/MktingFinalProj.ipynb\" target=\"_parent\"><img src=\"https://colab.research.google.com/assets/colab-badge.svg\" alt=\"Open In Colab\"/></a>"
      ]
    },
    {
      "cell_type": "markdown",
      "metadata": {
        "id": "87Uuv6OB4aoE"
      },
      "source": [
        "<center><font size = 4> Appendix A </center></font> \n",
        "<center> Market potential calculations. </center>"
      ]
    },
    {
      "cell_type": "code",
      "metadata": {
        "colab": {
          "base_uri": "https://localhost:8080/"
        },
        "id": "LBxxJb-54lBj",
        "outputId": "4dfde40c-dab8-453c-ab5d-e0a9d9c7f2bc"
      },
      "source": [
        "#@title  { display-mode: \"form\" }\n",
        "import matplotlib.pyplot as plt\n",
        "import math\n",
        "import scipy as sp\n",
        "import csv\n",
        "from scipy.signal import find_peaks\n",
        "import plotly.graph_objects as go\n",
        "from matplotlib.pyplot import figure\n",
        "import pandas as pd\n",
        "import image \n",
        "# Create variables for age groups \n",
        "# 65-74 cat1, 75-84 cat2, 85+ cat3 (2010 census)\n",
        "\n",
        "cat1 = 21713429\n",
        "cat2 = 13061122\n",
        "cat3 = 5493433\n",
        "total_pop = cat1+cat2+cat3\n",
        "medpop1 = round(cat1*0.04)\n",
        "medpop2 = round(cat2*0.08)\n",
        "medpop3 = round(cat3*0.21)\n",
        "total_percent_med = round(((medpop1+medpop2+medpop3)/total_pop) , 4)\n",
        "print(\"The total population of individuals age 65+ in 2010 was:\" ,total_pop)\n",
        "print(\"The population needing medical care in 2010 was:\" , medpop1 , medpop2 , medpop3 , \"for the 65-74, 74-85 and 85+ age groups respectively\" )\n",
        "print(\"The percent of all individuals needing medical care age 65+ in 2010 was\" , (total_percent_med*100), \"%\")\n",
        "\n",
        "#population of 65+ in 2018 (Most recent data) \n",
        "cat4 = 54200000 \n",
        "nonpovpop2018= cat4 *0.903\n",
        "medpop2018 = round(nonpovpop2018*total_percent_med)\n",
        "print(\"Based on the historical percentage of individuals needing medical care (2010 census) the population 65+ needing medical care not below the poverty threshold in 2018 was\" , medpop2018)\n",
        "#population of 65+ in 2035 (Harvard data)\n",
        "cat5 = 75000000\n",
        "nonpovpop2035 = cat5 * 0.903\n",
        "medpop2035 = round(nonpovpop2035*total_percent_med)\n",
        "#Price of service yearly \n",
        "yearly_price = 15*12\n",
        "#maximum yearly revenue based on non-poverty individuals 65+ (market share)\n",
        "yearly_revenue = yearly_price*medpop2018\n",
        "yearly_revenue2035 = yearly_price*medpop2035\n",
        "yearly_revenueall2018 = yearly_price*nonpovpop2018\n",
        "yearly_revenueall2035 = yearly_price*nonpovpop2035\n",
        "print(\"The population size of 65+ individuals above the federal poverty threshold in 2018 was:\", nonpovpop2018)\n",
        "print(\"The population size of 65+ individuals above the federal poverty threshold in 2035 would be:\", nonpovpop2035)\n",
        "print(\"The population size of medically assisted 65+ individuals above the federal poverty threshold in 2018 was:\", medpop2018)\n",
        "print(\"The population size of 65+ medically assisted individuals above the federal poverty threshold in 2035 would be:\", medpop2035)\n",
        "print(\"The market potential of Medically assisted 65+ individuals above the poverty threshold for 2018 would be:\" ,\"$\", yearly_revenue)\n",
        "print(\"The market potential of Medically assisted 65+ individuals above the poverty threshold for 2035 would be:\" ,\"$\", yearly_revenue2035)\n",
        "print(\"The market potential of all 65+ individuals above the poverty threshold for 2018 would be:\" ,\"$\", yearly_revenueall2018)\n",
        "print(\"The market potential of all 65+ individuals above the poverty threshold for 2035 would be:\" ,\"$\", yearly_revenueall2035)\n",
        "CAGR = round((((yearly_revenue2035 / yearly_revenue)**(1/17))-1) , 3)\n",
        "CAGRall = round((((yearly_revenueall2035 / yearly_revenueall2018)**(1/17))-1) , 3)\n",
        "print(\"The yearly compounded growth between 2018 and 2035 for Medically assisted individuals would be:\" , CAGR*100 , \"%\")\n",
        "print(\"The yearly compounded growth between 2018 and 2035 for all individuals would be:\" , CAGRall*100 , \"%\")"
      ],
      "execution_count": null,
      "outputs": [
        {
          "output_type": "stream",
          "text": [
            "The total population of individuals age 65+ in 2010 was: 40267984\n",
            "The population needing medical care in 2010 was: 868537 1044890 1153621 for the 65-74, 74-85 and 85+ age groups respectively\n",
            "The percent of all individuals needing medical care age 65+ in 2010 was 7.62 %\n",
            "Based on the historical percentage of individuals needing medical care (2010 census) the population 65+ needing medical care not below the poverty threshold in 2018 was 3729426\n",
            "The population size of 65+ individuals above the federal poverty threshold in 2018 was: 48942600.0\n",
            "The population size of 65+ individuals above the federal poverty threshold in 2035 would be: 67725000.0\n",
            "The population size of medically assisted 65+ individuals above the federal poverty threshold in 2018 was: 3729426\n",
            "The population size of 65+ medically assisted individuals above the federal poverty threshold in 2035 would be: 5160645\n",
            "The market potential of Medically assisted 65+ individuals above the poverty threshold for 2018 would be: $ 671296680\n",
            "The market potential of Medically assisted 65+ individuals above the poverty threshold for 2035 would be: $ 928916100\n",
            "The market potential of all 65+ individuals above the poverty threshold for 2018 would be: $ 8809668000.0\n",
            "The market potential of all 65+ individuals above the poverty threshold for 2035 would be: $ 12190500000.0\n",
            "The yearly compounded growth between 2018 and 2035 for Medically assisted individuals would be: 1.9 %\n",
            "The yearly compounded growth between 2018 and 2035 for all individuals would be: 1.9 %\n"
          ],
          "name": "stdout"
        }
      ]
    },
    {
      "cell_type": "markdown",
      "metadata": {
        "id": "ihrUZzX4lXUI"
      },
      "source": [
        "<center><font size = 4> Appendix B </center></font> \n",
        "<center> AgeWell by CVS Questionnaire </center> \n",
        "<br> \n",
        "<br> \n",
        "<center> 1. Do you currently own a smart phone? (Samsung, Google, Apple)</center>\n",
        "<left> a). Yes </br> \n",
        "b). No <br>\n",
        "c). I do not know \n",
        "</br> </left>\n",
        "<br>\n",
        "<center> 2. Does your phone have a touch screen?</center>\n",
        "<left> a). Yes </br> \n",
        "b). No\n",
        "</br> </left>\n",
        "<br> \n",
        "<center> 3. How often do you use a touch screen device?</center>\n",
        "<left> a). Never <br>\n",
        "b). Once a week <br>\n",
        "c). Less than 5 times a week <br>\n",
        "d). Everyday <br>\n",
        "</br> </left>\n",
        "<br>\n",
        "<center> 4. How often do use applications such as Facebook, Twitter or Instagram on your phone?</center>\n",
        "<left> a). Never <br>\n",
        "b). A few times a year <br>\n",
        "c). A few times a month <br>\n",
        "d). A few times a week <br>\n",
        "e). Everyday <br>\n",
        "</br> </left> \n",
        "<br> \n",
        "<center> 5. Have you used your phone to find service providers? (Uber, Lyft, Grubhub, Doordash, Taskrabbit, Postmates)</center>\n",
        "<left> a). Yes </br> \n",
        "b). No\n",
        "</br> </left>\n",
        "<br> \n",
        "<center> 6. Have you used an application on your phone for your healthcare needs? (Prescription, Health records, Tele-medicine)</center>\n",
        "<left> a). Yes </br> \n",
        "b). No\n",
        "</br> </left>\n",
        "<br> \n",
        "<center> 7. Would having your health records, prescription records and healthcare providers contact information on a single application on your phone make your life easier?</center>\n",
        "<left> a). Yes </br> \n",
        "b). No\n",
        "</br> </left>\n",
        "<br> \n",
        "<center> 8. Would you use an application that allows your family to monitor your health status in the case you need a caregiver?</center>\n",
        "<left> a). Yes </br> \n",
        "b). No <br>\n",
        "c). I would rather not answer\n",
        "</br> </left>\n",
        "<br> \n",
        "<center> Thank you for your responses</center>\n",
        "<center> ###</center>"
      ]
    },
    {
      "cell_type": "markdown",
      "metadata": {
        "id": "FAhcantm3pHk"
      },
      "source": [
        "<center><font size = 4> Appendix C </center></font> \n",
        "<center> Demographic calculations for beta market testing. </center>"
      ]
    },
    {
      "cell_type": "code",
      "metadata": {
        "colab": {
          "base_uri": "https://localhost:8080/",
          "height": 384
        },
        "id": "ZAAjSXMAR2Rf",
        "cellView": "form",
        "outputId": "fa5ae0ab-ac6f-413e-d836-2148e030a854"
      },
      "source": [
        "#@title\n",
        "import matplotlib.pyplot as plt\n",
        "import math\n",
        "from matplotlib.pyplot import figure\n",
        "import pandas as pd\n",
        "# Find the population of 65+ in each state's test market \"http://edr.state.fl.us/content/area-profiles/county/index.cfm\"\n",
        "\n",
        "#Florida (Percentage based on 2010 census value, population size based on 2019 estimate)\n",
        "Miamidade = 2812130 * 0.141\n",
        "Miamidade = int(Miamidade)\n",
        "Broward = 1919644 * 0.143\n",
        "Broward = int(Broward)\n",
        "Palmbeach = 1447857 * 0.216\n",
        "Palmbeach = int(Palmbeach)\n",
        "Stlucie = 309359 * 0.199\n",
        "Stlucie = int(Stlucie)\n",
        "Indianriver = 154939 * 0.272\n",
        "Indianriver = int(Indianriver)\n",
        "Brevard = 594469 * 0.204\n",
        "Brevard = int(Brevard)\n",
        "Flagler = 110635 * 0.245\n",
        "Flagler = int(Flagler)\n",
        "stjohns = 254412 * 0.157\n",
        "stjohns = int(stjohns)\n",
        "Nassau = 85070 * 0.162\n",
        "Nassau = int(Nassau)\n",
        "Collier = 376706 * 0.264\n",
        "Collier = int(Collier)\n",
        "Lee = 735148 * 0.235\n",
        "Lee = int(Lee)\n",
        "Sarasota = 426275 * 0.312\n",
        "Sarasota = int(Sarasota)\n",
        "Manatee = 387414 * 0.235\n",
        "Manatee = int(Manatee)\n",
        "Pinellas = 978045 * 0.212\n",
        "Pinellas = int(Pinellas)\n",
        "Pasco = 527122 * 0.207\n",
        "Pasco = int(Pasco)\n",
        "Hernando = 188358 * 0.258\n",
        "Hernando = int(Hernando)\n",
        "Citrus = 147744 * 0.319\n",
        "Citrus = int(Citrus)\n",
        "Marion = 360421 * 0.258\n",
        "Marion = int(Marion)\n",
        "Sumter = 128633 * 0.434 #The Villages \n",
        "Sumter = int(Sumter)\n",
        "Lake = 357247 * 0.242\n",
        "lake = int(Lake)\n",
        "FlaFloat = [Miamidade, Broward, Palmbeach, Stlucie, Indianriver, Brevard, Flagler, stjohns, Nassau, Collier, Lee, Sarasota, Manatee, Pinellas, Pasco, Hernando, Citrus, Marion, Sumter, Lake]\n",
        "FlaCounty_names = [Miamidade, Broward, Palmbeach, Stlucie, Indianriver, Brevard, Flagler, stjohns, Nassau, Collier, Lee, Sarasota, Manatee, Pinellas, Pasco, Hernando, Citrus, Marion, Sumter, Lake]\n",
        "Flapop = round(sum(FlaFloat),0)\n",
        "Flapop = int(Flapop)\n",
        "print(\"The beta test Florida population is:\", Flapop)\n",
        "\n",
        "#Pennsylvania (2018 population) https://www.workstats.dli.pa.gov/Products/CountyProfiles/Pages/default.aspx\n",
        "Montgomery = 821301 * 0.17\n",
        "Montgomery = int(Montgomery)\n",
        "Bucks = 626370 * 0.176\n",
        "Bucks = int(Bucks)\n",
        "Lehigh = 362613 * 0.162\n",
        "Lehigh = int(Lehigh)\n",
        "Northampton = 301778 * 0.182\n",
        "Northampton = int(Northampton)\n",
        "Allegheny = 1225561 * 0.181\n",
        "Allegheny = int(Allegheny)\n",
        "PaFloat = [Montgomery, Bucks, Lehigh, Northampton, Allegheny]\n",
        "Papop = round(sum(PaFloat),0)\n",
        "Papop = int(Papop)\n",
        "print(\"The beta test Pennsylvania population is:\", Papop)\n",
        "\n",
        "#New Jersey (2018 population) https://www.nj.gov/labor/lpa/dmograph/est/est_index.html\n",
        "Atlantic = 47611\n",
        "Atlantic = int(Atlantic)\n",
        "Bergen = 161086\n",
        "Bergen = int(Bergen)\n",
        "Capemay = 24586\n",
        "Capemay = int(Capemay)\n",
        "Hunterdon = 23105\n",
        "Huntedon = int(Hunterdon)\n",
        "Monmouth = 109201\n",
        "Monmouth = int(Monmouth)\n",
        "Morris = 84336\n",
        "Morris = int(Morris)\n",
        "Ocean = 135652\n",
        "Ocean = int(Ocean)\n",
        "NjFloat = [Atlantic, Bergen, Capemay, Hunterdon, Monmouth, Morris, Ocean]\n",
        "Njpop = sum(NjFloat)\n",
        "Njpop = int(Njpop)\n",
        "print(\"The beta test New-Jersey population is:\", Njpop)\n",
        "\n",
        "#New York metro area (NYC, LI, Mid-hudson region: 2018 population) https://pad.human.cornell.edu/counties/projections.cfm\n",
        "NyMetro = 395020 + 1279876 + 504556\n",
        "NyMetro = int(NyMetro)\n",
        "print(\"The beta test NYC metro area population is:\", NyMetro)\n",
        "\n",
        "#Massachusettes (Population estimates as of 2019) https://donahue.umass.edu/data/pep/dashboards/2019_characteristics.html\n",
        "Barnstable = 66917\n",
        "Barnstable = int(Barnstable)\n",
        "Plymouth = 96933\n",
        "Plymouth = int(Plymouth)\n",
        "Bristol = 97814\n",
        "Bristol = int(Bristol)\n",
        "Norfolk = 121823\n",
        "Norfolk = int(Norfolk)\n",
        "MaFloat = [Barnstable, Plymouth, Bristol, Norfolk]\n",
        "Mapop = sum(MaFloat)\n",
        "Mapop = int(Mapop)\n",
        "print(\"The beta test Massachusettes population is:\", Mapop)\n",
        "\n",
        "#Cleveland Metro area (Population as of 2019) https://www.development.ohio.gov/reports/reports_countytrends_map.htm \n",
        "Cuyahoga = 217416\n",
        "Cuyahoga = int(Cuyahoga)\n",
        "Summit = 92166\n",
        "Summit = int(Summit)\n",
        "Lake = 43492\n",
        "Lake = int(Lake)\n",
        "Lorain = 53050\n",
        "Lorain = int(Lorain)\n",
        "Medina = 29672\n",
        "Medina = int(Medina)\n",
        "OHFloat = [ Cuyahoga, Summit, Lake, Lorain, Medina ]\n",
        "OHpop = sum(OHFloat)\n",
        "print(\"The beta test population of Ohio (Cleveland metro) is:\", OHpop)\n",
        "\n",
        "BetaMarket_total = [Flapop, Papop, Njpop, NyMetro, Mapop, OHpop]\n",
        "Betamarket_Names = ['Florida', 'Pennsylvania','New Jersey', 'New York (NYC Metro)', 'Massachusetts', 'Ohio (Cleveland Metro)']\n",
        "\n",
        "import matplotlib.pyplot as plt\n",
        "\n",
        "# Pie chart, where the slices will be ordered and plotted counter-clockwise: for all beta-markets \n",
        "sizes = BetaMarket_total\n",
        "labels = list(Betamarket_Names)\n",
        "explode = (0.1, 0, 0, 0.1, 0, 0)  # only \"explode\" the 2nd slice (i.e. 'Hogs')\n",
        "colors = ['yellowgreen', 'lightgreen', 'lightblue', 'gold', 'red', 'lightsalmon', 'darkred']\n",
        "plt.pie(sizes, explode=explode, labels=labels, colors=colors, autopct='%1.1f%%', shadow=True, startangle=45)   #line 240\n",
        "#plt.pie(sizes, labels, colors)\n",
        "plt.axis('equal')\n",
        "plt.show()\n",
        "\n",
        "Beta_market_total_pop = sum(BetaMarket_total)\n",
        "Beta_market_total_pop = int(Beta_market_total_pop)\n",
        "print(\"The total population of the Beta test market is:\", Beta_market_total_pop)\n",
        "Percentage_of_Beta_Market_from_Marketpotential = round(((Beta_market_total_pop * 0.903) / (54200000 *0.903)) *100 , 2)\n",
        "print(\"This test market is\", Percentage_of_Beta_Market_from_Marketpotential, \"%\", \"of the market potential Assuming a proportional distribution of poverty rate among 65+ in all counties\")\n",
        "\n"
      ],
      "execution_count": null,
      "outputs": [
        {
          "output_type": "stream",
          "name": "stdout",
          "text": [
            "The beta test Florida population is: 2433261\n",
            "The beta test Pennsylvania population is: 585354\n",
            "The beta test New-Jersey population is: 585577\n",
            "The beta test NYC metro area population is: 2179452\n",
            "The beta test Massachusettes population is: 383487\n",
            "The beta test population of Ohio (Cleveland metro) is: 435796\n"
          ]
        },
        {
          "output_type": "display_data",
          "data": {
            "image/png": "[encoded data removed]",
            "text/plain": [
              "<Figure size 432x288 with 1 Axes>"
            ]
          },
          "metadata": {}
        },
        {
          "output_type": "stream",
          "name": "stdout",
          "text": [
            "The total population of the Beta test market is: 6602927\n",
            "This test market is 12.18 % of the market potential Assuming a proportional distribution of poverty rate among 65+ in all counties\n"
          ]
        }
      ]
    },
    {
      "cell_type": "markdown",
      "metadata": {
        "id": "gXbX9yfe0Ys7"
      },
      "source": [
        "<center><font size = 4> Appendix D </font></center> \n",
        "<center> Table of states and their target counties</center>\n",
        "<br>\n",
        "\n",
        "|State|Counties|\n",
        "|:-----:|:----:|\n",
        "|<b><font size = 3>Florida</font></b>| <ul><li>Miami-Dade </li><li>Broward</li><li>Palm Beach</li><li>Saint Lucie</li><li>Indian River</li><li>Brevard</li><li>Flagler</li><li>Saint Johns</li><li>Nassau</li><li>Collier</li><li>Lee</li><li>Sarasota</li><li>Manatee</li><li>Pinellas</li><li>Pasco</li><li> Hernando</li><li>Citrus</li><li>Marion</li><li>Sumter</li><li>Lake</li></ul>|\n",
        "|<b><font size = 3>Pennsylvania</font></b>| <ul><li>Montgomery</li><li>Bucks</li><li>Lehigh</li><li>Northampton</li><li>Allegheny</li></ul>|\n",
        "|<b><font size = 3>New Jersey</font></b>|<ul><li>Cape May</li><li>Ocean</li><li>Atlantic</li><li>Monmouth</li><li>Bergen</li><li>Morris</li><li>Hunterdon</li></ul>|\n",
        "|<b><font size = 3>New York</font></b>|<ul><li>Manhattan</li><li>Kings</li><li>Queens</li><li>Bronx</li><li>Richmond</li><li>Nassau</li><li>West Chester</li><li>Dutchess</li><li>Rockland</li><li>Sullivan</li><li>Orange</li><li>Ulster</li></ul>|\n",
        "|<b><font size = 3>Massachussettes</font></b>|<ul><li>Barnstable</li><li>Plymouth</li><li>Norfolk</li><li>Bristol</li></ul>|\n",
        "|<b><font size = 3>Ohio</font></b>|<ul><li>Cuyahoga</li><li>Summit</li><li>Lake</li><li>Lorain</li><li>Medina</li></ul>| \n"
      ]
    },
    {
      "cell_type": "markdown",
      "metadata": {
        "id": "4sc8Ar-F_Jbk"
      },
      "source": [
        "<center><font size = 4> Appendix E </font></center>\n",
        "<center> Map of the United States by county showing percentage and density of individuals age 65+.</center>\n",
        "<br> \n",
        "<img src=\"https://drive.google.com/uc?id=11ucI1QH5xQ6u3Z-bUMNiOAi3n7q3Lhc8\" \n",
        "align=\"center\"/>"
      ]
    },
    {
      "cell_type": "markdown",
      "metadata": {
        "id": "X8qDxyb5B37_"
      },
      "source": [
        "\n",
        "<font size = 4><center>All information, graphs and python notebooks pertaining to this proposal can be found <a href=\"https://drive.google.com/drive/folders/1-51NECx-RD1-WLJv4CE7jAL8rCknW87L?usp=sharing\">HERE</a></center></font>\n",
        "<center><font size = 4> To see python code please click <u><b>\"Show Code\" </b></u></font></center>"
      ]
    }
  ]
}